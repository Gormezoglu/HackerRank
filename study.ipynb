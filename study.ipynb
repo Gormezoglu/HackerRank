{
 "cells": [
  {
   "cell_type": "code",
   "execution_count": 11,
   "metadata": {},
   "outputs": [
    {
     "name": "stdout",
     "output_type": "stream",
     "text": [
      "[1]\n",
      "len l in while loop: 1\n",
      "1\n",
      "len l in while loop: 2\n",
      "2\n",
      "3\n",
      "len l in while loop: 4\n",
      "4\n",
      "4\n",
      "5\n",
      "6\n",
      "len l in while loop: 6\n",
      "6\n",
      "6\n",
      "7\n",
      "8\n",
      "8\n",
      "9\n",
      "[1, 1, 4, 6, 6, 11, 14, 18, 19, 20]\n"
     ]
    }
   ],
   "source": [
    "import random\n",
    "\n",
    "l=[]\n",
    "l.append(random.randint(1,20))\n",
    "print(l)\n",
    "\n",
    "while(len(l)<=8):\n",
    "    if len(l)==8:\n",
    "        break\n",
    "    else:\n",
    "        print('len l in while loop:',len(l))\n",
    "        for i in range(len(l)):\n",
    "            print(len(l))\n",
    "            if int(l[i]) < l.count(l[i]):\n",
    "                continue\n",
    "            else:\n",
    "                l.append(random.randint(1,20))\n",
    "\n",
    "l.sort()\n",
    "print (l)\n"
   ]
  },
  {
   "cell_type": "code",
   "execution_count": 29,
   "metadata": {},
   "outputs": [
    {
     "name": "stdout",
     "output_type": "stream",
     "text": [
      "len l is: 0\n",
      "len l is: 2\n",
      "len l is: 6\n",
      "[1, 2, 2, 2, 4, 4, 4, 12, 15, 18]\n",
      "10\n"
     ]
    }
   ],
   "source": [
    "import random\n",
    "\n",
    "l=[]\n",
    "\n",
    "while (len(l)<8):\n",
    "    print('len l is:',len(l))\n",
    "    l.append(random.randint(10,20))\n",
    "    for i in range(len(l)):        \n",
    "        if int(l[i]) > l.count(l[i]):\n",
    "            l.append(random.randint(1,5)) \n",
    "        else:\n",
    "            break           \n",
    "\n",
    "\n",
    "l.sort()\n",
    "print (l)\n",
    "print(len(l))"
   ]
  },
  {
   "cell_type": "code",
   "execution_count": null,
   "metadata": {},
   "outputs": [],
   "source": []
  }
 ],
 "metadata": {
  "interpreter": {
   "hash": "f0a8ca1b1324573d7b9c7247f92177669f6f55c0b2d917412ca0894f2d26eb46"
  },
  "kernelspec": {
   "display_name": "Python 3.9.10 64-bit (windows store)",
   "language": "python",
   "name": "python3"
  },
  "language_info": {
   "codemirror_mode": {
    "name": "ipython",
    "version": 3
   },
   "file_extension": ".py",
   "mimetype": "text/x-python",
   "name": "python",
   "nbconvert_exporter": "python",
   "pygments_lexer": "ipython3",
   "version": "3.9.10"
  },
  "orig_nbformat": 4
 },
 "nbformat": 4,
 "nbformat_minor": 2
}
