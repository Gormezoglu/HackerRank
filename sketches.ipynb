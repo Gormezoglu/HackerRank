{
 "cells": [
  {
   "cell_type": "code",
   "execution_count": 345,
   "metadata": {},
   "outputs": [
    {
     "name": "stdout",
     "output_type": "stream",
     "text": [
      "[18]\n",
      "len l in while loop: 1\n",
      "len l in while loop: 2\n",
      "len l in while loop: 4\n",
      "len l in while loop: 6\n"
     ]
    }
   ],
   "source": [
    "#so far the best solution\n",
    "\n",
    "import random\n",
    "\n",
    "l=[]\n",
    "l.append(random.randint(1,20))\n",
    "print(l)\n",
    "\n",
    "while(len(l)<=8):\n",
    "    if len(l)==8:\n",
    "        break\n",
    "    else:\n",
    "        print('len l in while loop:',len(l))\n",
    "        for i in range(len(l)):\n",
    "         \n",
    "            if int(l[i]) < l.count(l[i]):\n",
    "                continue\n",
    "            else:\n",
    "                l.append(random.randint(1,20))\n",
    "\n",
    "l.sort()\n",
    "if len(l)==8:\n",
    "    print(l)\n",
    "    print(len(l))\n",
    "else:\n",
    "    pass\n"
   ]
  },
  {
   "cell_type": "code",
   "execution_count": 266,
   "metadata": {},
   "outputs": [
    {
     "name": "stdout",
     "output_type": "stream",
     "text": [
      "len l is: 1\n",
      "len l is: 4\n",
      "[1, 2, 3, 3, 4, 4, 5, 15, 15, 5]\n",
      "10\n"
     ]
    }
   ],
   "source": [
    "import random\n",
    "\n",
    "l=[]\n",
    "l.append(random.randint(1,20))\n",
    "\n",
    "\n",
    "while (len(l)<8):\n",
    "    print('len l is:',len(l))\n",
    "    l.append(random.randint(10,20))\n",
    "    for i in range(len(l)):\n",
    "        l.sort()        \n",
    "        if int(l[i]) > l.count(l[i]):\n",
    "            l.append(random.randint(1,5)) \n",
    "        else:\n",
    "            break\n",
    "\n",
    "\n",
    "\n",
    "\n",
    "print (l)\n",
    "print(len(l))"
   ]
  },
  {
   "cell_type": "code",
   "execution_count": 262,
   "metadata": {},
   "outputs": [
    {
     "name": "stdout",
     "output_type": "stream",
     "text": [
      "[12]\n"
     ]
    }
   ],
   "source": [
    "import random\n",
    "\n"
   ]
  },
  {
   "cell_type": "code",
   "execution_count": 782,
   "metadata": {},
   "outputs": [
    {
     "name": "stdout",
     "output_type": "stream",
     "text": [
      "[1, 1, 1, 2, 3, 3, 5, 5, 10]\n",
      "9\n"
     ]
    }
   ],
   "source": [
    "import random\n",
    "\n",
    "l=[]\n",
    "l.append(random.randint(1,20))\n",
    "\n",
    "\n",
    "for i in range(8):            \n",
    "    if int(l[i]) > l.count(l[i]):\n",
    "        l.append(random.randint(1,5))\n",
    "        l.sort() \n",
    "    else:\n",
    "        break\n",
    "\n",
    "\n",
    "\n",
    "\n",
    "print (l)\n",
    "print(len(l))"
   ]
  },
  {
   "cell_type": "code",
   "execution_count": 866,
   "metadata": {},
   "outputs": [
    {
     "name": "stdout",
     "output_type": "stream",
     "text": [
      "1\n",
      "2\n",
      "3\n",
      "4\n",
      "5\n",
      "6\n",
      "7\n",
      "8\n",
      "[2, 2, 9, 9, 11, 12, 15, 17]\n",
      "8\n"
     ]
    }
   ],
   "source": [
    "\n",
    "import random\n",
    "\n",
    "#random.randint(1,20)\n",
    "\n",
    "l=[]\n",
    "#l.append(random.randint(1,20))\n",
    "    \n",
    "while(len(l)<8):\n",
    "    r = random.randint(1,20)\n",
    "    l.append(r)\n",
    "    l.sort()\n",
    "    print(len(l))\n",
    "    # if int(r) > l.count(l[i]):\n",
    "    #     l.append(r)\n",
    "    #     l.sort()\n",
    "    #     print(i)\n",
    "\n",
    "\n",
    "print(l)\n",
    "print(len(l))"
   ]
  },
  {
   "cell_type": "code",
   "execution_count": 944,
   "metadata": {},
   "outputs": [
    {
     "name": "stdout",
     "output_type": "stream",
     "text": [
      "0\n",
      "1\n",
      "2\n",
      "3\n",
      "4\n",
      "5\n",
      "6\n",
      "[1, 1, 1, 3, 5, 5, 5, 10]\n",
      "8\n"
     ]
    },
    {
     "data": {
      "text/plain": [
       "'\\nif int(r) > l.count(l[i]):\\n    l.append(r)\\n    l.sort()\\n    print(i)'"
      ]
     },
     "execution_count": 944,
     "metadata": {},
     "output_type": "execute_result"
    }
   ],
   "source": [
    "\n",
    "import random\n",
    "\n",
    "#random.randint(1,20)\n",
    "\n",
    "l=[]\n",
    "#l.append(random.randint(1,20))\n",
    "    \n",
    "while(len(l)<8):\n",
    "    r = random.randint(1,20)\n",
    "    l.append(r)\n",
    "    for i in range(7):\n",
    "        if int(l[i]) > l.count(l[i]):\n",
    "            l.append(random.randint(1,5))\n",
    "            l.sort()\n",
    "            print(i)\n",
    "        else:\n",
    "            print('else')\n",
    "            break\n",
    "\n",
    "\n",
    "print(l)\n",
    "print(len(l))\n",
    "\n",
    "\n",
    "\n",
    "\"\"\"\n",
    "if int(r) > l.count(l[i]):\n",
    "    l.append(r)\n",
    "    l.sort()\n",
    "    print(i)\"\"\""
   ]
  },
  {
   "cell_type": "code",
   "execution_count": 1016,
   "metadata": {},
   "outputs": [
    {
     "name": "stdout",
     "output_type": "stream",
     "text": [
      "l[i] 13, count[i] 1\n",
      "l[i] 13, count[i] 1\n",
      "0\n",
      "l[i] 13, count[i] 1\n",
      "l[i] 13, count[i] 1\n",
      "1\n",
      "l[i] 13, count[i] 1\n",
      "l[i] 13, count[i] 1\n",
      "2\n",
      "l[i] 13, count[i] 1\n",
      "l[i] 13, count[i] 1\n",
      "3\n",
      "l[i] 13, count[i] 1\n",
      "l[i] 13, count[i] 1\n",
      "4\n",
      "l[i] 13, count[i] 1\n",
      "l[i] 13, count[i] 1\n",
      "5\n",
      "l[i] 13, count[i] 1\n",
      "l[i] 13, count[i] 1\n",
      "6\n",
      "[1, 2, 2, 3, 4, 5, 5, 13]\n",
      "8\n"
     ]
    }
   ],
   "source": [
    "import random\n",
    "\n",
    "l=[]    \n",
    "\n",
    "while(len(l)<8):\n",
    "    r = random.randint(1,20)\n",
    "    l.append(r)\n",
    "    for i in range(7):\n",
    "        print(f'l[i] {l[i]}, count[i] {l.count(l[i])}')\n",
    "        if int(l[i]) > l.count(l[i]):\n",
    "            print(f'l[i] {l[i]}, count[i] {l.count(l[i])}')\n",
    "            l.append(random.randint(1,5))\n",
    "            l.sort()\n",
    "            print(i)\n",
    "        else:\n",
    "            print('else')\n",
    "            break\n",
    "\n",
    "\n",
    "print(l)\n",
    "print(len(l))"
   ]
  },
  {
   "cell_type": "code",
   "execution_count": 1054,
   "metadata": {},
   "outputs": [
    {
     "name": "stdout",
     "output_type": "stream",
     "text": [
      "l[i] 14, count[i] 1\n",
      "l[i] 14, count[i] 1\n",
      "0\n",
      "l[i] 14, count[i] 1\n",
      "l[i] 14, count[i] 1\n",
      "1\n",
      "l[i] 14, count[i] 1\n",
      "l[i] 14, count[i] 1\n",
      "2\n",
      "l[i] 14, count[i] 1\n",
      "l[i] 14, count[i] 1\n",
      "3\n",
      "l[i] 14, count[i] 1\n",
      "l[i] 14, count[i] 1\n",
      "4\n",
      "l[i] 14, count[i] 1\n",
      "l[i] 14, count[i] 1\n",
      "5\n",
      "l[i] 14, count[i] 1\n",
      "l[i] 14, count[i] 1\n",
      "6\n",
      "[1, 2, 3, 4, 4, 5, 5, 14]\n",
      "8\n"
     ]
    }
   ],
   "source": [
    "import random\n",
    "\n",
    "l=[]    \n",
    "\n",
    "while(len(l)<8):\n",
    "    l.sort()\n",
    "    l.append(random.randint(1,20))\n",
    "    for i in range(7):\n",
    "        print(f'l[i] {l[i]}, count[i] {l.count(l[i])}')\n",
    "        if int(l[i]) > l.count(l[i]):\n",
    "            print(f'l[i] {l[i]}, count[i] {l.count(l[i])}')\n",
    "            l.append(random.randint(1,5))\n",
    "            l.sort()\n",
    "            print(i)\n",
    "        else:\n",
    "            print('else')\n",
    "            break\n",
    "\n",
    "\n",
    "print(l)\n",
    "print(len(l))"
   ]
  },
  {
   "cell_type": "code",
   "execution_count": 1165,
   "metadata": {},
   "outputs": [
    {
     "name": "stdout",
     "output_type": "stream",
     "text": [
      "[6, 8, 9, 10, 12, 14, 14, 16]\n",
      "8\n"
     ]
    }
   ],
   "source": [
    "import random\n",
    "\n",
    "l=[]    \n",
    "l.append(random.randint(1,20))\n",
    "\n",
    "def ran_num():\n",
    "    if len(l)<9:\n",
    "        l.append(random.randint(1,20))\n",
    "        \n",
    "\n",
    "while(len(l)<8):\n",
    "    ran_num()\n",
    "    if int(l[-1]) > l.count(l[i]):\n",
    "\n",
    "print(l)\n",
    "print(len(l))"
   ]
  }
 ],
 "metadata": {
  "interpreter": {
   "hash": "f0a8ca1b1324573d7b9c7247f92177669f6f55c0b2d917412ca0894f2d26eb46"
  },
  "kernelspec": {
   "display_name": "Python 3.9.10 64-bit (windows store)",
   "language": "python",
   "name": "python3"
  },
  "language_info": {
   "codemirror_mode": {
    "name": "ipython",
    "version": 3
   },
   "file_extension": ".py",
   "mimetype": "text/x-python",
   "name": "python",
   "nbconvert_exporter": "python",
   "pygments_lexer": "ipython3",
   "version": "3.9.1"
  },
  "orig_nbformat": 4
 },
 "nbformat": 4,
 "nbformat_minor": 2
}
